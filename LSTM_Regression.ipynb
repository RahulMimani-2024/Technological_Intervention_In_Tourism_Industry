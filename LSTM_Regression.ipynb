{
  "nbformat": 4,
  "nbformat_minor": 0,
  "metadata": {
    "colab": {
      "name": "LSTM_Regression.ipynb",
      "provenance": [],
      "include_colab_link": true
    },
    "kernelspec": {
      "name": "python3",
      "display_name": "Python 3"
    },
    "language_info": {
      "name": "python"
    }
  },
  "cells": [
    {
      "cell_type": "markdown",
      "metadata": {
        "id": "view-in-github",
        "colab_type": "text"
      },
      "source": [
        "<a href=\"https://colab.research.google.com/github/RahulMimani-2024/Technological_Intervention_In_Tourism_Industry/blob/main/LSTM_Regression.ipynb\" target=\"_parent\"><img src=\"https://colab.research.google.com/assets/colab-badge.svg\" alt=\"Open In Colab\"/></a>"
      ]
    },
    {
      "cell_type": "code",
      "execution_count": 1,
      "metadata": {
        "id": "r6WHWsHrBv7T"
      },
      "outputs": [],
      "source": [
        "# LSTM for foreign tourist arrival problem with regression framing\n",
        "import numpy \n",
        "import matplotlib.pyplot as plt\n",
        "from pandas import read_csv\n",
        "import math\n",
        "from matplotlib.pyplot import figure\n",
        "from keras.models import Sequential\n",
        "from keras.layers import Dense\n",
        "from keras.layers import LSTM,Flatten\n",
        "from keras.callbacks import EarlyStopping\n",
        "from sklearn.preprocessing import MinMaxScaler\n",
        "from sklearn.metrics import mean_squared_error\n",
        "from sklearn.metrics import mean_absolute_error"
      ]
    },
    {
      "cell_type": "code",
      "source": [
        "# convert an array of values into a dataset matrix\n",
        "def create_dataset(dataset, look_back=12):\n",
        "\tdataX, dataY = [], []\n",
        "\tfor i in range(len(dataset)-look_back-1):\n",
        "\t\ta = dataset[i:(i+look_back), 0]\n",
        "\t\tdataX.append(a)\n",
        "\t\tdataY.append(dataset[i + look_back, 0])\n",
        "\treturn numpy.array(dataX), numpy.array(dataY)\n"
      ],
      "metadata": {
        "id": "6hNkWxZYB4F1"
      },
      "execution_count": 2,
      "outputs": []
    },
    {
      "cell_type": "code",
      "source": [
        "# fix random seed for reproducibility\n",
        "numpy.random.seed(7)\n",
        "# load the dataset\n",
        "dataframe = read_csv('/content/monthly_tourist_arrivals_india_2002-2018.csv', usecols=[0], engine='python')\n",
        "dataset = dataframe.values\n",
        "dataset = dataset.astype('float32')"
      ],
      "metadata": {
        "id": "PxVbLiIgCtAk"
      },
      "execution_count": 3,
      "outputs": []
    },
    {
      "cell_type": "code",
      "source": [
        "# normalize the dataset\n",
        "scaler = MinMaxScaler(feature_range=(0, 1))\n",
        "dataset = scaler.fit_transform(dataset)"
      ],
      "metadata": {
        "id": "1XqkmKKEyt80"
      },
      "execution_count": 4,
      "outputs": []
    },
    {
      "cell_type": "code",
      "source": [
        "print(dataset)"
      ],
      "metadata": {
        "id": "epgDfFbGzXxd",
        "colab": {
          "base_uri": "https://localhost:8080/"
        },
        "outputId": "a2020335-a94d-4cee-8090-e34bf3efb00a"
      },
      "execution_count": 5,
      "outputs": [
        {
          "output_type": "stream",
          "name": "stdout",
          "text": [
            "[[0.12240492]\n",
            " [0.11177646]\n",
            " [0.07099019]\n",
            " [0.01792441]\n",
            " [0.        ]\n",
            " [0.03211322]\n",
            " [0.07734163]\n",
            " [0.05850776]\n",
            " [0.0459626 ]\n",
            " [0.10981826]\n",
            " [0.13750227]\n",
            " [0.16396321]\n",
            " [0.18063413]\n",
            " [0.17542456]\n",
            " [0.13990228]\n",
            " [0.07598113]\n",
            " [0.04057874]\n",
            " [0.07527828]\n",
            " [0.12078248]\n",
            " [0.10311449]\n",
            " [0.07864586]\n",
            " [0.15305711]\n",
            " [0.22480915]\n",
            " [0.25459158]\n",
            " [0.2254908 ]\n",
            " [0.2106102 ]\n",
            " [0.19423814]\n",
            " [0.0986087 ]\n",
            " [0.07737391]\n",
            " [0.09727496]\n",
            " [0.15344726]\n",
            " [0.12207378]\n",
            " [0.10669604]\n",
            " [0.19023784]\n",
            " [0.26041174]\n",
            " [0.3116715 ]\n",
            " [0.29329604]\n",
            " [0.27448064]\n",
            " [0.23013218]\n",
            " [0.1546814 ]\n",
            " [0.10468896]\n",
            " [0.12623738]\n",
            " [0.18062212]\n",
            " [0.15023465]\n",
            " [0.14424296]\n",
            " [0.23049189]\n",
            " [0.27754563]\n",
            " [0.36900598]\n",
            " [0.36352712]\n",
            " [0.33222282]\n",
            " [0.30529147]\n",
            " [0.192814  ]\n",
            " [0.12498941]\n",
            " [0.15574767]\n",
            " [0.23830159]\n",
            " [0.20009704]\n",
            " [0.14793335]\n",
            " [0.2795297 ]\n",
            " [0.36057276]\n",
            " [0.39997643]\n",
            " [0.3415286 ]\n",
            " [0.43349993]\n",
            " [0.311998  ]\n",
            " [0.20254593]\n",
            " [0.15021066]\n",
            " [0.18450253]\n",
            " [0.26787925]\n",
            " [0.22305574]\n",
            " [0.18464456]\n",
            " [0.28455567]\n",
            " [0.35988557]\n",
            " [0.36193419]\n",
            " [0.31342125]\n",
            " [0.32124197]\n",
            " [0.27722192]\n",
            " [0.19004138]\n",
            " [0.15096886]\n",
            " [0.19447704]\n",
            " [0.26877117]\n",
            " [0.21048383]\n",
            " [0.17451142]\n",
            " [0.2927057 ]\n",
            " [0.36896265]\n",
            " [0.4374495 ]\n",
            " [0.3940465 ]\n",
            " [0.37876558]\n",
            " [0.34187078]\n",
            " [0.21255825]\n",
            " [0.1757843 ]\n",
            " [0.22425942]\n",
            " [0.2999611 ]\n",
            " [0.25887692]\n",
            " [0.210589  ]\n",
            " [0.33720452]\n",
            " [0.43044227]\n",
            " [0.49669242]\n",
            " [0.4438489 ]\n",
            " [0.4484663 ]\n",
            " [0.3635105 ]\n",
            " [0.28132552]\n",
            " [0.22314982]\n",
            " [0.24346502]\n",
            " [0.3081047 ]\n",
            " [0.2647035 ]\n",
            " [0.25454634]\n",
            " [0.38567322]\n",
            " [0.4872501 ]\n",
            " [0.549119  ]\n",
            " [0.49761295]\n",
            " [0.49778908]\n",
            " [0.42885393]\n",
            " [0.28231245]\n",
            " [0.21488263]\n",
            " [0.2692231 ]\n",
            " [0.31757188]\n",
            " [0.28051478]\n",
            " [0.24908961]\n",
            " [0.382765  ]\n",
            " [0.5162291 ]\n",
            " [0.5639959 ]\n",
            " [0.5338796 ]\n",
            " [0.5045925 ]\n",
            " [0.45936042]\n",
            " [0.28507864]\n",
            " [0.25452328]\n",
            " [0.2856717 ]\n",
            " [0.33659023]\n",
            " [0.31806076]\n",
            " [0.2878282 ]\n",
            " [0.42114204]\n",
            " [0.54642564]\n",
            " [0.62727875]\n",
            " [0.56843615]\n",
            " [0.5664918 ]\n",
            " [0.50631917]\n",
            " [0.3632412 ]\n",
            " [0.29841888]\n",
            " [0.3325327 ]\n",
            " [0.39418668]\n",
            " [0.40053165]\n",
            " [0.33909446]\n",
            " [0.48598737]\n",
            " [0.5755485 ]\n",
            " [0.6859073 ]\n",
            " [0.5989371 ]\n",
            " [0.57140714]\n",
            " [0.5420269 ]\n",
            " [0.36898756]\n",
            " [0.339765  ]\n",
            " [0.34204513]\n",
            " [0.44902343]\n",
            " [0.42241764]\n",
            " [0.36995512]\n",
            " [0.49971962]\n",
            " [0.6220821 ]\n",
            " [0.7113454 ]\n",
            " [0.64844894]\n",
            " [0.6523681 ]\n",
            " [0.6157731 ]\n",
            " [0.4155239 ]\n",
            " [0.35599595]\n",
            " [0.37398773]\n",
            " [0.54634356]\n",
            " [0.47096473]\n",
            " [0.43044138]\n",
            " [0.5536635 ]\n",
            " [0.67957616]\n",
            " [0.81156266]\n",
            " [0.7765477 ]\n",
            " [0.75157356]\n",
            " [0.7041186 ]\n",
            " [0.5316456 ]\n",
            " [0.45097423]\n",
            " [0.4874549 ]\n",
            " [0.5966524 ]\n",
            " [0.5373348 ]\n",
            " [0.5359512 ]\n",
            " [0.6691497 ]\n",
            " [0.7962984 ]\n",
            " [0.95439893]\n",
            " [0.8527234 ]\n",
            " [0.8407326 ]\n",
            " [0.8158286 ]\n",
            " [0.5607722 ]\n",
            " [0.428473  ]\n",
            " [0.49786842]\n",
            " [0.6131425 ]\n",
            " [0.59336597]\n",
            " [0.5327727 ]\n",
            " [0.6827888 ]\n",
            " [0.80303353]\n",
            " [0.9681552 ]\n",
            " [0.8872016 ]\n",
            " [0.8727333 ]\n",
            " [0.7668194 ]\n",
            " [0.58094996]\n",
            " [0.43266702]\n",
            " [0.53451973]\n",
            " [0.61336386]\n",
            " [0.60606974]\n",
            " [0.5617287 ]\n",
            " [0.7404092 ]\n",
            " [0.87665516]\n",
            " [1.        ]]\n"
          ]
        }
      ]
    },
    {
      "cell_type": "code",
      "source": [
        "# split into train and test sets\n",
        "train_size = int(len(dataset) * 0.67)\n",
        "test_size = len(dataset) - train_size\n",
        "train, test = dataset[0:train_size,:], dataset[train_size:len(dataset),:]"
      ],
      "metadata": {
        "id": "Jj4qFlcFywla"
      },
      "execution_count": 6,
      "outputs": []
    },
    {
      "cell_type": "code",
      "source": [
        "# reshape into X=t and Y=t+1\n",
        "look_back = 12\n",
        "trainX, trainY = create_dataset(train, look_back)\n",
        "testX, testY = create_dataset(test, look_back)\n",
        "# reshape input to be [samples, time steps, features]\n",
        "trainX = numpy.reshape(trainX, (trainX.shape[0], 1, trainX.shape[1]))\n",
        "testX = numpy.reshape(testX, (testX.shape[0], 1, testX.shape[1]))"
      ],
      "metadata": {
        "id": "fxWDqHTGyzMz"
      },
      "execution_count": 7,
      "outputs": []
    },
    {
      "cell_type": "code",
      "source": [
        "print(trainX)"
      ],
      "metadata": {
        "id": "SfOSSMUjznA7",
        "colab": {
          "base_uri": "https://localhost:8080/"
        },
        "outputId": "286e7bfb-6b73-4381-c24c-e645d23d371d"
      },
      "execution_count": 8,
      "outputs": [
        {
          "output_type": "stream",
          "name": "stdout",
          "text": [
            "[[[0.12240492 0.11177646 0.07099019 ... 0.10981826 0.13750227 0.16396321]]\n",
            "\n",
            " [[0.11177646 0.07099019 0.01792441 ... 0.13750227 0.16396321 0.18063413]]\n",
            "\n",
            " [[0.07099019 0.01792441 0.         ... 0.16396321 0.18063413 0.17542456]]\n",
            "\n",
            " ...\n",
            "\n",
            " [[0.5338796  0.5045925  0.45936042 ... 0.42114204 0.54642564 0.62727875]]\n",
            "\n",
            " [[0.5045925  0.45936042 0.28507864 ... 0.54642564 0.62727875 0.56843615]]\n",
            "\n",
            " [[0.45936042 0.28507864 0.25452328 ... 0.62727875 0.56843615 0.5664918 ]]]\n"
          ]
        }
      ]
    },
    {
      "cell_type": "code",
      "source": [
        "# create and fit the LSTM network\n",
        "model = Sequential()\n",
        "#model.add(LSTM(4, input_shape=(1, look_back)))\n",
        "model.add(LSTM(12, input_shape=(1, look_back)))\n",
        "model.add(Flatten())\n",
        "model.add(Dense(12))\n",
        "model.add(Dense(1))\n",
        "model.compile(loss='mean_squared_error', optimizer='adam')\n",
        "model.summary()\n",
        "es = EarlyStopping(monitor=\"val_loss\",min_delta=0.0001, patience=11, verbose=1, mode='min', baseline=None,restore_best_weights=True) \n",
        "#model.fit(trainX, trainY, epochs=30, batch_size=1, verbose=2)\n",
        "history = model.fit(trainX, trainY, epochs=200, batch_size=12,validation_data=(testX, testY), verbose=1,callbacks=[es])"
      ],
      "metadata": {
        "colab": {
          "base_uri": "https://localhost:8080/"
        },
        "id": "wGVnC09ky2vT",
        "outputId": "999ad3c9-b5d6-4542-d6b2-451197291125"
      },
      "execution_count": 9,
      "outputs": [
        {
          "output_type": "stream",
          "name": "stdout",
          "text": [
            "Model: \"sequential\"\n",
            "_________________________________________________________________\n",
            " Layer (type)                Output Shape              Param #   \n",
            "=================================================================\n",
            " lstm (LSTM)                 (None, 12)                1200      \n",
            "                                                                 \n",
            " flatten (Flatten)           (None, 12)                0         \n",
            "                                                                 \n",
            " dense (Dense)               (None, 12)                156       \n",
            "                                                                 \n",
            " dense_1 (Dense)             (None, 1)                 13        \n",
            "                                                                 \n",
            "=================================================================\n",
            "Total params: 1,369\n",
            "Trainable params: 1,369\n",
            "Non-trainable params: 0\n",
            "_________________________________________________________________\n",
            "Epoch 1/200\n",
            "11/11 [==============================] - 3s 65ms/step - loss: 0.1208 - val_loss: 0.3814\n",
            "Epoch 2/200\n",
            "11/11 [==============================] - 0s 7ms/step - loss: 0.0592 - val_loss: 0.2026\n",
            "Epoch 3/200\n",
            "11/11 [==============================] - 0s 10ms/step - loss: 0.0239 - val_loss: 0.0972\n",
            "Epoch 4/200\n",
            "11/11 [==============================] - 0s 8ms/step - loss: 0.0099 - val_loss: 0.0437\n",
            "Epoch 5/200\n",
            "11/11 [==============================] - 0s 8ms/step - loss: 0.0074 - val_loss: 0.0260\n",
            "Epoch 6/200\n",
            "11/11 [==============================] - 0s 8ms/step - loss: 0.0078 - val_loss: 0.0240\n",
            "Epoch 7/200\n",
            "11/11 [==============================] - 0s 7ms/step - loss: 0.0073 - val_loss: 0.0288\n",
            "Epoch 8/200\n",
            "11/11 [==============================] - 0s 7ms/step - loss: 0.0067 - val_loss: 0.0311\n",
            "Epoch 9/200\n",
            "11/11 [==============================] - 0s 8ms/step - loss: 0.0064 - val_loss: 0.0286\n",
            "Epoch 10/200\n",
            "11/11 [==============================] - 0s 7ms/step - loss: 0.0061 - val_loss: 0.0237\n",
            "Epoch 11/200\n",
            "11/11 [==============================] - 0s 8ms/step - loss: 0.0058 - val_loss: 0.0215\n",
            "Epoch 12/200\n",
            "11/11 [==============================] - 0s 8ms/step - loss: 0.0055 - val_loss: 0.0197\n",
            "Epoch 13/200\n",
            "11/11 [==============================] - 0s 8ms/step - loss: 0.0052 - val_loss: 0.0176\n",
            "Epoch 14/200\n",
            "11/11 [==============================] - 0s 8ms/step - loss: 0.0049 - val_loss: 0.0157\n",
            "Epoch 15/200\n",
            "11/11 [==============================] - 0s 9ms/step - loss: 0.0046 - val_loss: 0.0153\n",
            "Epoch 16/200\n",
            "11/11 [==============================] - 0s 9ms/step - loss: 0.0043 - val_loss: 0.0125\n",
            "Epoch 17/200\n",
            "11/11 [==============================] - 0s 7ms/step - loss: 0.0041 - val_loss: 0.0123\n",
            "Epoch 18/200\n",
            "11/11 [==============================] - 0s 7ms/step - loss: 0.0038 - val_loss: 0.0098\n",
            "Epoch 19/200\n",
            "11/11 [==============================] - 0s 7ms/step - loss: 0.0036 - val_loss: 0.0097\n",
            "Epoch 20/200\n",
            "11/11 [==============================] - 0s 8ms/step - loss: 0.0033 - val_loss: 0.0084\n",
            "Epoch 21/200\n",
            "11/11 [==============================] - 0s 9ms/step - loss: 0.0032 - val_loss: 0.0076\n",
            "Epoch 22/200\n",
            "11/11 [==============================] - 0s 9ms/step - loss: 0.0030 - val_loss: 0.0077\n",
            "Epoch 23/200\n",
            "11/11 [==============================] - 0s 8ms/step - loss: 0.0027 - val_loss: 0.0069\n",
            "Epoch 24/200\n",
            "11/11 [==============================] - 0s 9ms/step - loss: 0.0026 - val_loss: 0.0063\n",
            "Epoch 25/200\n",
            "11/11 [==============================] - 0s 7ms/step - loss: 0.0025 - val_loss: 0.0062\n",
            "Epoch 26/200\n",
            "11/11 [==============================] - 0s 8ms/step - loss: 0.0023 - val_loss: 0.0058\n",
            "Epoch 27/200\n",
            "11/11 [==============================] - 0s 8ms/step - loss: 0.0023 - val_loss: 0.0058\n",
            "Epoch 28/200\n",
            "11/11 [==============================] - 0s 7ms/step - loss: 0.0021 - val_loss: 0.0056\n",
            "Epoch 29/200\n",
            "11/11 [==============================] - 0s 6ms/step - loss: 0.0021 - val_loss: 0.0055\n",
            "Epoch 30/200\n",
            "11/11 [==============================] - 0s 7ms/step - loss: 0.0020 - val_loss: 0.0056\n",
            "Epoch 31/200\n",
            "11/11 [==============================] - 0s 7ms/step - loss: 0.0019 - val_loss: 0.0059\n",
            "Epoch 32/200\n",
            "11/11 [==============================] - 0s 8ms/step - loss: 0.0018 - val_loss: 0.0054\n",
            "Epoch 33/200\n",
            "11/11 [==============================] - 0s 8ms/step - loss: 0.0018 - val_loss: 0.0054\n",
            "Epoch 34/200\n",
            "11/11 [==============================] - 0s 7ms/step - loss: 0.0017 - val_loss: 0.0061\n",
            "Epoch 35/200\n",
            "11/11 [==============================] - 0s 8ms/step - loss: 0.0017 - val_loss: 0.0057\n",
            "Epoch 36/200\n",
            "11/11 [==============================] - 0s 8ms/step - loss: 0.0017 - val_loss: 0.0054\n",
            "Epoch 37/200\n",
            "11/11 [==============================] - 0s 8ms/step - loss: 0.0016 - val_loss: 0.0063\n",
            "Epoch 38/200\n",
            "11/11 [==============================] - 0s 8ms/step - loss: 0.0016 - val_loss: 0.0056\n",
            "Epoch 39/200\n",
            "11/11 [==============================] - 0s 8ms/step - loss: 0.0015 - val_loss: 0.0053\n",
            "Epoch 40/200\n",
            "11/11 [==============================] - 0s 9ms/step - loss: 0.0016 - val_loss: 0.0058\n",
            "Epoch 41/200\n",
            "11/11 [==============================] - 0s 8ms/step - loss: 0.0015 - val_loss: 0.0048\n",
            "Epoch 42/200\n",
            "11/11 [==============================] - 0s 8ms/step - loss: 0.0014 - val_loss: 0.0058\n",
            "Epoch 43/200\n",
            "11/11 [==============================] - 0s 7ms/step - loss: 0.0015 - val_loss: 0.0055\n",
            "Epoch 44/200\n",
            "11/11 [==============================] - 0s 9ms/step - loss: 0.0014 - val_loss: 0.0048\n",
            "Epoch 45/200\n",
            "11/11 [==============================] - 0s 9ms/step - loss: 0.0014 - val_loss: 0.0052\n",
            "Epoch 46/200\n",
            "11/11 [==============================] - 0s 7ms/step - loss: 0.0013 - val_loss: 0.0055\n",
            "Epoch 47/200\n",
            "11/11 [==============================] - 0s 10ms/step - loss: 0.0013 - val_loss: 0.0049\n",
            "Epoch 48/200\n",
            "11/11 [==============================] - 0s 8ms/step - loss: 0.0013 - val_loss: 0.0060\n",
            "Epoch 49/200\n",
            "11/11 [==============================] - 0s 6ms/step - loss: 0.0013 - val_loss: 0.0053\n",
            "Epoch 50/200\n",
            "11/11 [==============================] - 0s 7ms/step - loss: 0.0013 - val_loss: 0.0048\n",
            "Epoch 51/200\n",
            "11/11 [==============================] - 0s 6ms/step - loss: 0.0013 - val_loss: 0.0045\n",
            "Epoch 52/200\n",
            "11/11 [==============================] - 0s 7ms/step - loss: 0.0013 - val_loss: 0.0050\n",
            "Epoch 53/200\n",
            "11/11 [==============================] - 0s 8ms/step - loss: 0.0013 - val_loss: 0.0056\n",
            "Epoch 54/200\n",
            "11/11 [==============================] - 0s 7ms/step - loss: 0.0012 - val_loss: 0.0039\n",
            "Epoch 55/200\n",
            "11/11 [==============================] - 0s 7ms/step - loss: 0.0012 - val_loss: 0.0048\n",
            "Epoch 56/200\n",
            "11/11 [==============================] - 0s 7ms/step - loss: 0.0011 - val_loss: 0.0045\n",
            "Epoch 57/200\n",
            "11/11 [==============================] - 0s 7ms/step - loss: 0.0011 - val_loss: 0.0044\n",
            "Epoch 58/200\n",
            "11/11 [==============================] - 0s 9ms/step - loss: 0.0011 - val_loss: 0.0045\n",
            "Epoch 59/200\n",
            "11/11 [==============================] - 0s 7ms/step - loss: 0.0011 - val_loss: 0.0043\n",
            "Epoch 60/200\n",
            "11/11 [==============================] - 0s 7ms/step - loss: 0.0011 - val_loss: 0.0046\n",
            "Epoch 61/200\n",
            "11/11 [==============================] - 0s 7ms/step - loss: 0.0011 - val_loss: 0.0038\n",
            "Epoch 62/200\n",
            "11/11 [==============================] - 0s 7ms/step - loss: 0.0010 - val_loss: 0.0048\n",
            "Epoch 63/200\n",
            "11/11 [==============================] - 0s 8ms/step - loss: 0.0011 - val_loss: 0.0037\n",
            "Epoch 64/200\n",
            "11/11 [==============================] - 0s 7ms/step - loss: 0.0010 - val_loss: 0.0047\n",
            "Epoch 65/200\n",
            "11/11 [==============================] - 0s 7ms/step - loss: 9.9898e-04 - val_loss: 0.0039\n",
            "Epoch 66/200\n",
            "11/11 [==============================] - 0s 9ms/step - loss: 9.7220e-04 - val_loss: 0.0039\n",
            "Epoch 67/200\n",
            "11/11 [==============================] - 0s 7ms/step - loss: 9.5902e-04 - val_loss: 0.0041\n",
            "Epoch 68/200\n",
            "11/11 [==============================] - 0s 7ms/step - loss: 9.6093e-04 - val_loss: 0.0037\n",
            "Epoch 69/200\n",
            "11/11 [==============================] - 0s 8ms/step - loss: 9.2372e-04 - val_loss: 0.0042\n",
            "Epoch 70/200\n",
            "11/11 [==============================] - 0s 11ms/step - loss: 9.3588e-04 - val_loss: 0.0037\n",
            "Epoch 71/200\n",
            "11/11 [==============================] - 0s 7ms/step - loss: 9.0851e-04 - val_loss: 0.0041\n",
            "Epoch 72/200\n",
            "11/11 [==============================] - 0s 8ms/step - loss: 8.9805e-04 - val_loss: 0.0036\n",
            "Epoch 73/200\n",
            "11/11 [==============================] - 0s 8ms/step - loss: 8.8395e-04 - val_loss: 0.0036\n",
            "Epoch 74/200\n",
            "11/11 [==============================] - 0s 8ms/step - loss: 8.7413e-04 - val_loss: 0.0035\n",
            "Epoch 75/200\n",
            "11/11 [==============================] - 0s 6ms/step - loss: 8.6618e-04 - val_loss: 0.0037\n",
            "Epoch 76/200\n",
            "11/11 [==============================] - 0s 6ms/step - loss: 8.5202e-04 - val_loss: 0.0036\n",
            "Epoch 77/200\n",
            "11/11 [==============================] - 0s 8ms/step - loss: 8.4547e-04 - val_loss: 0.0037\n",
            "Epoch 78/200\n",
            "11/11 [==============================] - 0s 9ms/step - loss: 8.5176e-04 - val_loss: 0.0032\n",
            "Epoch 79/200\n",
            "11/11 [==============================] - 0s 7ms/step - loss: 8.5575e-04 - val_loss: 0.0035\n",
            "Epoch 80/200\n",
            "11/11 [==============================] - 0s 8ms/step - loss: 8.4670e-04 - val_loss: 0.0031\n",
            "Epoch 81/200\n",
            "11/11 [==============================] - 0s 7ms/step - loss: 8.2326e-04 - val_loss: 0.0030\n",
            "Epoch 82/200\n",
            "11/11 [==============================] - 0s 8ms/step - loss: 7.9338e-04 - val_loss: 0.0036\n",
            "Epoch 83/200\n",
            "11/11 [==============================] - 0s 7ms/step - loss: 8.0367e-04 - val_loss: 0.0030\n",
            "Epoch 84/200\n",
            "11/11 [==============================] - 0s 7ms/step - loss: 8.2640e-04 - val_loss: 0.0030\n",
            "Epoch 85/200\n",
            "11/11 [==============================] - 0s 7ms/step - loss: 8.3155e-04 - val_loss: 0.0035\n",
            "Epoch 86/200\n",
            "11/11 [==============================] - 0s 7ms/step - loss: 8.0238e-04 - val_loss: 0.0031\n",
            "Epoch 87/200\n",
            "11/11 [==============================] - 0s 8ms/step - loss: 7.6844e-04 - val_loss: 0.0036\n",
            "Epoch 88/200\n",
            "11/11 [==============================] - 0s 7ms/step - loss: 7.6793e-04 - val_loss: 0.0029\n",
            "Epoch 89/200\n",
            "11/11 [==============================] - 0s 8ms/step - loss: 7.9900e-04 - val_loss: 0.0033\n",
            "Epoch 90/200\n",
            "11/11 [==============================] - 0s 7ms/step - loss: 7.6023e-04 - val_loss: 0.0031\n",
            "Epoch 91/200\n",
            "11/11 [==============================] - 0s 9ms/step - loss: 7.5106e-04 - val_loss: 0.0033\n",
            "Epoch 92/200\n",
            "11/11 [==============================] - 0s 7ms/step - loss: 7.6093e-04 - val_loss: 0.0033\n",
            "Epoch 93/200\n",
            "11/11 [==============================] - 0s 9ms/step - loss: 7.5567e-04 - val_loss: 0.0036\n",
            "Epoch 94/200\n",
            "11/11 [==============================] - 0s 7ms/step - loss: 7.2074e-04 - val_loss: 0.0027\n",
            "Epoch 95/200\n",
            "11/11 [==============================] - 0s 8ms/step - loss: 7.2895e-04 - val_loss: 0.0034\n",
            "Epoch 96/200\n",
            "11/11 [==============================] - 0s 9ms/step - loss: 7.2360e-04 - val_loss: 0.0030\n",
            "Epoch 97/200\n",
            "11/11 [==============================] - 0s 7ms/step - loss: 7.3021e-04 - val_loss: 0.0035\n",
            "Epoch 98/200\n",
            "11/11 [==============================] - 0s 7ms/step - loss: 7.0470e-04 - val_loss: 0.0028\n",
            "Epoch 99/200\n",
            "11/11 [==============================] - 0s 8ms/step - loss: 7.0871e-04 - val_loss: 0.0029\n",
            "Epoch 100/200\n",
            "11/11 [==============================] - 0s 7ms/step - loss: 7.1329e-04 - val_loss: 0.0033\n",
            "Epoch 101/200\n",
            "11/11 [==============================] - 0s 8ms/step - loss: 6.9697e-04 - val_loss: 0.0030\n",
            "Epoch 102/200\n",
            "11/11 [==============================] - 0s 8ms/step - loss: 6.9254e-04 - val_loss: 0.0029\n",
            "Epoch 103/200\n",
            "11/11 [==============================] - 0s 8ms/step - loss: 6.8311e-04 - val_loss: 0.0028\n",
            "Epoch 104/200\n",
            "11/11 [==============================] - 0s 10ms/step - loss: 6.9125e-04 - val_loss: 0.0026\n",
            "Epoch 105/200\n",
            " 1/11 [=>............................] - ETA: 0s - loss: 6.1044e-04Restoring model weights from the end of the best epoch: 94.\n",
            "11/11 [==============================] - 0s 9ms/step - loss: 7.0462e-04 - val_loss: 0.0027\n",
            "Epoch 105: early stopping\n"
          ]
        }
      ]
    },
    {
      "cell_type": "code",
      "source": [
        "plt.plot(history.history['loss'])\n",
        "plt.plot(history.history['val_loss'])\n",
        "plt.title('model train vs validation loss')\n",
        "plt.ylabel('loss')\n",
        "plt.xlabel('epoch')\n",
        "plt.legend(['train', 'validation'], loc='upper right')\n",
        "plt.show()"
      ],
      "metadata": {
        "colab": {
          "base_uri": "https://localhost:8080/",
          "height": 295
        },
        "id": "kyEEMe561c8W",
        "outputId": "46bb255b-5a4e-45bf-cb2f-d5ccf1515a35"
      },
      "execution_count": 10,
      "outputs": [
        {
          "output_type": "display_data",
          "data": {
            "text/plain": [
              "<Figure size 432x288 with 1 Axes>"
            ],
            "image/png": "[encoded data removed]"
          },
          "metadata": {
            "needs_background": "light"
          }
        }
      ]
    },
    {
      "cell_type": "code",
      "source": [
        "# make predictions\n",
        "trainPredict = model.predict(trainX)\n",
        "testPredict = model.predict(testX)"
      ],
      "metadata": {
        "id": "q_je7HHZy6bi"
      },
      "execution_count": 11,
      "outputs": []
    },
    {
      "cell_type": "code",
      "source": [
        "# invert predictions\n",
        "trainPredict = scaler.inverse_transform(trainPredict)\n",
        "trainY = scaler.inverse_transform([trainY])\n",
        "testPredict = scaler.inverse_transform(testPredict)\n",
        "testY = scaler.inverse_transform([testY])"
      ],
      "metadata": {
        "id": "6Ltr0QJJy-DK"
      },
      "execution_count": 12,
      "outputs": []
    },
    {
      "cell_type": "code",
      "source": [
        "def calculate_smape(actual, predicted) -> float:\n",
        "  \n",
        "    # Convert actual and predicted to numpy\n",
        "    # array data type if not already\n",
        "    if not all([isinstance(actual, numpy.ndarray), \n",
        "                isinstance(predicted, numpy.ndarray)]):\n",
        "        actual, predicted = numpy.array(actual),\n",
        "        numpy.array(predicted)\n",
        "  \n",
        "    return round(\n",
        "        numpy.mean(\n",
        "            numpy.abs(predicted - actual) / \n",
        "            ((numpy.abs(predicted) + numpy.abs(actual))/2)\n",
        "        )*100, 2\n",
        "    )\n",
        "  \n",
        "  # to calculate mape\n",
        "def MAPE(Y_actual,Y_Predicted):\n",
        "    mape = numpy.mean(numpy.abs((Y_actual - Y_Predicted)/Y_actual))*100\n",
        "    return mape\n",
        " "
      ],
      "metadata": {
        "id": "2RA7ljm0zLXA"
      },
      "execution_count": 13,
      "outputs": []
    },
    {
      "cell_type": "code",
      "source": [
        "# calculate root mean squared error\n",
        "trainScore = math.sqrt(mean_squared_error(trainY[0], trainPredict[:,0]))\n",
        "print('Train Score: %.2f RMSE' % (trainScore))\n",
        "testScore = math.sqrt(mean_squared_error(testY[0], testPredict[:,0]))\n",
        "print('Test Score: %.2f RMSE' % (testScore))\n",
        "train_MAPE= MAPE(trainY[0],trainPredict[:,0])\n",
        "print(\"Train Score: %.2f MAPE\" % (train_MAPE))\n",
        "test_MAPE= MAPE(testY[0],testPredict[:,0])\n",
        "print(\"Test Score: %.2f MAPE\" % (test_MAPE))\n",
        "train_MAE=mean_absolute_error(trainY[0],trainPredict[:,0])\n",
        "print(\"Train Score: %.2f MAE\" % (train_MAE))\n",
        "test_MAE=mean_absolute_error(testY[0],testPredict[:,0])\n",
        "print(\"Train Score: %.2f MAE\" % (test_MAE))\n",
        "train_SMAPE=calculate_smape(trainY[0],trainPredict[:,0])\n",
        "print(\"Train Score: %.2f SMAPE\" % (train_SMAPE))\n",
        "test_SMAPE=calculate_smape(testY[0],testPredict[:,0])\n",
        "print(\"Test Score: %.2f SMAPE\" % (test_SMAPE))"
      ],
      "metadata": {
        "colab": {
          "base_uri": "https://localhost:8080/"
        },
        "id": "zkzJSlP1zAJb",
        "outputId": "5a1e7bf1-d0d4-448b-9336-fbae64b4da5f"
      },
      "execution_count": 14,
      "outputs": [
        {
          "output_type": "stream",
          "name": "stdout",
          "text": [
            "Train Score: 29434.83 RMSE\n",
            "Test Score: 56001.54 RMSE\n",
            "Train Score: 5.43 MAPE\n",
            "Test Score: 5.48 MAPE\n",
            "Train Score: 23265.92 MAE\n",
            "Train Score: 44557.69 MAE\n",
            "Train Score: 5.45 SMAPE\n",
            "Test Score: 5.39 SMAPE\n"
          ]
        }
      ]
    },
    {
      "cell_type": "code",
      "source": [
        "print(testY[0])"
      ],
      "metadata": {
        "id": "3ixGIBTon1YW",
        "colab": {
          "base_uri": "https://localhost:8080/"
        },
        "outputId": "b0de05e4-2679-41e6-810d-2a4484c7b056"
      },
      "execution_count": 15,
      "outputs": [
        {
          "output_type": "stream",
          "name": "stdout",
          "text": [
            "[ 509868.98862854  512341.00839719  628323.02692429  599477.99278008\n",
            "  542600.01923816  683286.01552806  815947.02684985  912723.04016387\n",
            "  844532.99456303  848782.03298641  809107.00101014  592004.03286994\n",
            "  527465.99033297  546972.03182424  733834.01844107  652110.99903485\n",
            "  608177.04159006  741770.02000296  878279.99983681 1021375.01021557\n",
            "  983413.0218961   956336.99337657  904888.04155326  717899.00963751\n",
            "  630438.0145075   669989.03838172  788377.03380082  724067.03951407\n",
            "  722566.98736554  866976.00542914 1004826.03529548 1176232.95483567\n",
            " 1066000.02688047 1052999.98419425 1026000.01483894  749477.00399649\n",
            "  606042.99074988  681279.00998681  806255.00852648  784814.01414316\n",
            "  719120.99671926  881763.01843645 1012128.03816572 1191147.0131419\n",
            " 1103380.03658238 1087694.01330108  972866.00034277  771353.02836576\n",
            "  610589.99757274  721015.04438536  806495.01170055  798586.99112261\n",
            "  750514.04517512  944232.98838868 1091945.95967892]\n"
          ]
        }
      ]
    },
    {
      "cell_type": "code",
      "source": [
        "# shift train predictions for plotting\n",
        "trainPredictPlot = numpy.empty_like(dataset)\n",
        "trainPredictPlot[:, :] = numpy.nan\n",
        "trainPredictPlot[look_back:len(trainPredict)+look_back, :] = trainPredict"
      ],
      "metadata": {
        "id": "fH1nkHkDzCPK"
      },
      "execution_count": 16,
      "outputs": []
    },
    {
      "cell_type": "code",
      "source": [
        "# shift test predictions for plotting\n",
        "testPredictPlot = numpy.empty_like(dataset)\n",
        "testPredictPlot[:, :] = numpy.nan\n",
        "testPredictPlot[len(trainPredict)+(look_back*2)+1:len(dataset)-1, :] = testPredict"
      ],
      "metadata": {
        "id": "sUpYtE0VzFkb"
      },
      "execution_count": 17,
      "outputs": []
    },
    {
      "cell_type": "code",
      "source": [
        "# plot baseline and predictions\n",
        "figure(figsize=(8, 6), dpi=100)\n",
        "plt.plot(scaler.inverse_transform(dataset))\n",
        "#plt.plot(trainPredictPlot)\n",
        "plt.plot(testPredictPlot)\n",
        "plt.show()"
      ],
      "metadata": {
        "colab": {
          "base_uri": "https://localhost:8080/",
          "height": 528
        },
        "id": "DRmGhjeqzG87",
        "outputId": "00b509af-e667-4738-d166-ff5624ba6f51"
      },
      "execution_count": 18,
      "outputs": [
        {
          "output_type": "display_data",
          "data": {
            "text/plain": [
              "<Figure size 800x600 with 1 Axes>"
            ],
            "image/png": "[encoded data removed]"
          },
          "metadata": {
            "needs_background": "light"
          }
        }
      ]
    },
    {
      "cell_type": "code",
      "source": [
        ""
      ],
      "metadata": {
        "id": "pozrCaiPIDjK"
      },
      "execution_count": 18,
      "outputs": []
    }
  ]
}