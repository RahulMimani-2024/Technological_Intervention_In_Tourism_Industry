{
  "nbformat": 4,
  "nbformat_minor": 0,
  "metadata": {
    "colab": {
      "name": "LSTM_Regression.ipynb",
      "provenance": [],
      "include_colab_link": true
    },
    "kernelspec": {
      "name": "python3",
      "display_name": "Python 3"
    },
    "language_info": {
      "name": "python"
    }
  },
  "cells": [
    {
      "cell_type": "markdown",
      "metadata": {
        "id": "view-in-github",
        "colab_type": "text"
      },
      "source": [
        "<a href=\"https://colab.research.google.com/github/RahulMimani-2024/Technological_Intervention_In_Tourism_Industry/blob/main/LSTM_Regression.ipynb\" target=\"_parent\"><img src=\"https://colab.research.google.com/assets/colab-badge.svg\" alt=\"Open In Colab\"/></a>"
      ]
    },
    {
      "cell_type": "code",
      "execution_count": null,
      "metadata": {
        "id": "r6WHWsHrBv7T"
      },
      "outputs": [],
      "source": [
        "# LSTM for foreign tourist arrival problem with regression framing\n",
        "import numpy \n",
        "import matplotlib.pyplot as plt\n",
        "from pandas import read_csv\n",
        "import math\n",
        "from matplotlib.pyplot import figure\n",
        "from keras.models import Sequential\n",
        "from keras.layers import Dense\n",
        "from keras.layers import LSTM,Flatten\n",
        "from keras.callbacks import EarlyStopping\n",
        "from sklearn.preprocessing import MinMaxScaler\n",
        "from sklearn.metrics import mean_squared_error\n",
        "from sklearn.metrics import mean_absolute_error"
      ]
    },
    {
      "cell_type": "code",
      "source": [
        "from google.colab import drive\n",
        "drive.mount('/content/drive')"
      ],
      "metadata": {
        "id": "dSxFjpVGdwUo",
        "colab": {
          "base_uri": "https://localhost:8080/"
        },
        "outputId": "5a48d459-3a27-4d55-99fd-6d001a3cea5f"
      },
      "execution_count": null,
      "outputs": [
        {
          "output_type": "stream",
          "name": "stdout",
          "text": [
            "Drive already mounted at /content/drive; to attempt to forcibly remount, call drive.mount(\"/content/drive\", force_remount=True).\n"
          ]
        }
      ]
    },
    {
      "cell_type": "code",
      "source": [
        "# convert an array of values into a dataset matrix\n",
        "def create_dataset(dataset, look_back=12):\n",
        "\tdataX, dataY = [], []\n",
        "\tfor i in range(len(dataset)-look_back-1):\n",
        "\t\ta = dataset[i:(i+look_back), 0]\n",
        "\t\tdataX.append(a)\n",
        "\t\tdataY.append(dataset[i + look_back, 0])\n",
        "\treturn numpy.array(dataX), numpy.array(dataY)\n"
      ],
      "metadata": {
        "id": "6hNkWxZYB4F1"
      },
      "execution_count": null,
      "outputs": []
    },
    {
      "cell_type": "code",
      "source": [
        "# fix random seed for reproducibility\n",
        "numpy.random.seed(7)\n",
        "# load the dataset\n",
        "dataframe = read_csv('/content/monthly_tourist_arrivals_india_2002-2018.csv', usecols=[0], engine='python')\n",
        "dataset = dataframe.values\n",
        "dataset = dataset.astype('float32')"
      ],
      "metadata": {
        "id": "PxVbLiIgCtAk"
      },
      "execution_count": null,
      "outputs": []
    },
    {
      "cell_type": "code",
      "source": [
        "# normalize the dataset\n",
        "scaler = MinMaxScaler(feature_range=(0, 1))\n",
        "dataset = scaler.fit_transform(dataset)"
      ],
      "metadata": {
        "id": "1XqkmKKEyt80"
      },
      "execution_count": null,
      "outputs": []
    },
    {
      "cell_type": "code",
      "source": [
        "print(dataset)"
      ],
      "metadata": {
        "id": "epgDfFbGzXxd"
      },
      "execution_count": null,
      "outputs": []
    },
    {
      "cell_type": "code",
      "source": [
        "# split into train and test sets\n",
        "train_size = int(len(dataset) * 0.67)\n",
        "test_size = len(dataset) - train_size\n",
        "train, test = dataset[0:train_size,:], dataset[train_size:len(dataset),:]"
      ],
      "metadata": {
        "id": "Jj4qFlcFywla"
      },
      "execution_count": null,
      "outputs": []
    },
    {
      "cell_type": "code",
      "source": [
        "# reshape into X=t and Y=t+1\n",
        "look_back = 12\n",
        "trainX, trainY = create_dataset(train, look_back)\n",
        "testX, testY = create_dataset(test, look_back)\n",
        "# reshape input to be [samples, time steps, features]\n",
        "trainX = numpy.reshape(trainX, (trainX.shape[0], 1, trainX.shape[1]))\n",
        "testX = numpy.reshape(testX, (testX.shape[0], 1, testX.shape[1]))"
      ],
      "metadata": {
        "id": "fxWDqHTGyzMz"
      },
      "execution_count": null,
      "outputs": []
    },
    {
      "cell_type": "code",
      "source": [
        "print(trainX)"
      ],
      "metadata": {
        "id": "SfOSSMUjznA7"
      },
      "execution_count": null,
      "outputs": []
    },
    {
      "cell_type": "code",
      "source": [
        "# create and fit the LSTM network\n",
        "model = Sequential()\n",
        "#model.add(LSTM(4, input_shape=(1, look_back)))\n",
        "model.add(LSTM(12, input_shape=(1, look_back)))\n",
        "model.add(Flatten())\n",
        "model.add(Dense(8))\n",
        "model.add(Dense(1))\n",
        "model.compile(loss='mean_squared_error', optimizer='adam')\n",
        "model.summary()\n",
        "es = EarlyStopping(monitor=\"val_loss\",min_delta=0.0001, patience=20, verbose=1, mode='min', baseline=None,restore_best_weights=True) \n",
        "#model.fit(trainX, trainY, epochs=30, batch_size=1, verbose=2)\n",
        "history = model.fit(trainX, trainY, epochs=200, batch_size=12,validation_data=(testX, testY), verbose=1,callbacks=[es])\n"
      ],
      "metadata": {
        "id": "wGVnC09ky2vT",
        "colab": {
          "base_uri": "https://localhost:8080/"
        },
        "outputId": "26024013-b672-49b0-eecb-3826e58cf0a2"
      },
      "execution_count": null,
      "outputs": [
        {
          "output_type": "stream",
          "name": "stdout",
          "text": [
            "Model: \"sequential_10\"\n",
            "_________________________________________________________________\n",
            " Layer (type)                Output Shape              Param #   \n",
            "=================================================================\n",
            " lstm_10 (LSTM)              (None, 12)                1200      \n",
            "                                                                 \n",
            " flatten_9 (Flatten)         (None, 12)                0         \n",
            "                                                                 \n",
            " dense_18 (Dense)            (None, 8)                 104       \n",
            "                                                                 \n",
            " dense_19 (Dense)            (None, 1)                 9         \n",
            "                                                                 \n",
            "=================================================================\n",
            "Total params: 1,313\n",
            "Trainable params: 1,313\n",
            "Non-trainable params: 0\n",
            "_________________________________________________________________\n",
            "Epoch 1/200\n",
            "11/11 [==============================] - 2s 49ms/step - loss: 0.0880 - val_loss: 0.2859\n",
            "Epoch 2/200\n",
            "11/11 [==============================] - 0s 5ms/step - loss: 0.0443 - val_loss: 0.1632\n",
            "Epoch 3/200\n",
            "11/11 [==============================] - 0s 6ms/step - loss: 0.0214 - val_loss: 0.0848\n",
            "Epoch 4/200\n",
            "11/11 [==============================] - 0s 6ms/step - loss: 0.0113 - val_loss: 0.0510\n",
            "Epoch 5/200\n",
            "11/11 [==============================] - 0s 6ms/step - loss: 0.0108 - val_loss: 0.0375\n",
            "Epoch 6/200\n",
            "11/11 [==============================] - 0s 6ms/step - loss: 0.0108 - val_loss: 0.0370\n",
            "Epoch 7/200\n",
            "11/11 [==============================] - 0s 6ms/step - loss: 0.0101 - val_loss: 0.0427\n",
            "Epoch 8/200\n",
            "11/11 [==============================] - 0s 6ms/step - loss: 0.0095 - val_loss: 0.0429\n",
            "Epoch 9/200\n",
            "11/11 [==============================] - 0s 5ms/step - loss: 0.0091 - val_loss: 0.0403\n",
            "Epoch 10/200\n",
            "11/11 [==============================] - 0s 5ms/step - loss: 0.0087 - val_loss: 0.0343\n",
            "Epoch 11/200\n",
            "11/11 [==============================] - 0s 6ms/step - loss: 0.0082 - val_loss: 0.0324\n",
            "Epoch 12/200\n",
            "11/11 [==============================] - 0s 5ms/step - loss: 0.0077 - val_loss: 0.0310\n",
            "Epoch 13/200\n",
            "11/11 [==============================] - 0s 7ms/step - loss: 0.0072 - val_loss: 0.0307\n",
            "Epoch 14/200\n",
            "11/11 [==============================] - 0s 6ms/step - loss: 0.0067 - val_loss: 0.0269\n",
            "Epoch 15/200\n",
            "11/11 [==============================] - 0s 6ms/step - loss: 0.0062 - val_loss: 0.0215\n",
            "Epoch 16/200\n",
            "11/11 [==============================] - 0s 6ms/step - loss: 0.0057 - val_loss: 0.0216\n",
            "Epoch 17/200\n",
            "11/11 [==============================] - 0s 5ms/step - loss: 0.0051 - val_loss: 0.0179\n",
            "Epoch 18/200\n",
            "11/11 [==============================] - 0s 6ms/step - loss: 0.0045 - val_loss: 0.0159\n",
            "Epoch 19/200\n",
            "11/11 [==============================] - 0s 5ms/step - loss: 0.0040 - val_loss: 0.0127\n",
            "Epoch 20/200\n",
            "11/11 [==============================] - 0s 5ms/step - loss: 0.0035 - val_loss: 0.0131\n",
            "Epoch 21/200\n",
            "11/11 [==============================] - 0s 7ms/step - loss: 0.0031 - val_loss: 0.0092\n",
            "Epoch 22/200\n",
            "11/11 [==============================] - 0s 6ms/step - loss: 0.0027 - val_loss: 0.0079\n",
            "Epoch 23/200\n",
            "11/11 [==============================] - 0s 9ms/step - loss: 0.0024 - val_loss: 0.0081\n",
            "Epoch 24/200\n",
            "11/11 [==============================] - 0s 5ms/step - loss: 0.0022 - val_loss: 0.0069\n",
            "Epoch 25/200\n",
            "11/11 [==============================] - 0s 7ms/step - loss: 0.0022 - val_loss: 0.0073\n",
            "Epoch 26/200\n",
            "11/11 [==============================] - 0s 6ms/step - loss: 0.0021 - val_loss: 0.0052\n",
            "Epoch 27/200\n",
            "11/11 [==============================] - 0s 6ms/step - loss: 0.0020 - val_loss: 0.0061\n",
            "Epoch 28/200\n",
            "11/11 [==============================] - 0s 7ms/step - loss: 0.0019 - val_loss: 0.0052\n",
            "Epoch 29/200\n",
            "11/11 [==============================] - 0s 6ms/step - loss: 0.0019 - val_loss: 0.0059\n",
            "Epoch 30/200\n",
            "11/11 [==============================] - 0s 5ms/step - loss: 0.0018 - val_loss: 0.0050\n",
            "Epoch 31/200\n",
            "11/11 [==============================] - 0s 6ms/step - loss: 0.0018 - val_loss: 0.0050\n",
            "Epoch 32/200\n",
            "11/11 [==============================] - 0s 5ms/step - loss: 0.0019 - val_loss: 0.0046\n",
            "Epoch 33/200\n",
            "11/11 [==============================] - 0s 7ms/step - loss: 0.0017 - val_loss: 0.0059\n",
            "Epoch 34/200\n",
            "11/11 [==============================] - 0s 5ms/step - loss: 0.0017 - val_loss: 0.0045\n",
            "Epoch 35/200\n",
            "11/11 [==============================] - 0s 6ms/step - loss: 0.0017 - val_loss: 0.0044\n",
            "Epoch 36/200\n",
            "11/11 [==============================] - 0s 6ms/step - loss: 0.0016 - val_loss: 0.0051\n",
            "Epoch 37/200\n",
            "11/11 [==============================] - 0s 6ms/step - loss: 0.0016 - val_loss: 0.0039\n",
            "Epoch 38/200\n",
            "11/11 [==============================] - 0s 5ms/step - loss: 0.0015 - val_loss: 0.0047\n",
            "Epoch 39/200\n",
            "11/11 [==============================] - 0s 6ms/step - loss: 0.0015 - val_loss: 0.0040\n",
            "Epoch 40/200\n",
            "11/11 [==============================] - 0s 6ms/step - loss: 0.0015 - val_loss: 0.0042\n",
            "Epoch 41/200\n",
            "11/11 [==============================] - 0s 7ms/step - loss: 0.0015 - val_loss: 0.0040\n",
            "Epoch 42/200\n",
            "11/11 [==============================] - 0s 5ms/step - loss: 0.0015 - val_loss: 0.0040\n",
            "Epoch 43/200\n",
            "11/11 [==============================] - 0s 6ms/step - loss: 0.0014 - val_loss: 0.0039\n",
            "Epoch 44/200\n",
            "11/11 [==============================] - 0s 6ms/step - loss: 0.0014 - val_loss: 0.0035\n",
            "Epoch 45/200\n",
            "11/11 [==============================] - 0s 5ms/step - loss: 0.0014 - val_loss: 0.0034\n",
            "Epoch 46/200\n",
            "11/11 [==============================] - 0s 5ms/step - loss: 0.0013 - val_loss: 0.0035\n",
            "Epoch 47/200\n",
            "11/11 [==============================] - 0s 6ms/step - loss: 0.0013 - val_loss: 0.0035\n",
            "Epoch 48/200\n",
            "11/11 [==============================] - 0s 6ms/step - loss: 0.0014 - val_loss: 0.0032\n",
            "Epoch 49/200\n",
            "11/11 [==============================] - 0s 6ms/step - loss: 0.0012 - val_loss: 0.0034\n",
            "Epoch 50/200\n",
            "11/11 [==============================] - 0s 6ms/step - loss: 0.0012 - val_loss: 0.0031\n",
            "Epoch 51/200\n",
            "11/11 [==============================] - 0s 7ms/step - loss: 0.0012 - val_loss: 0.0032\n",
            "Epoch 52/200\n",
            "11/11 [==============================] - 0s 6ms/step - loss: 0.0012 - val_loss: 0.0031\n",
            "Epoch 53/200\n",
            "11/11 [==============================] - 0s 5ms/step - loss: 0.0012 - val_loss: 0.0031\n",
            "Epoch 54/200\n",
            "11/11 [==============================] - 0s 5ms/step - loss: 0.0011 - val_loss: 0.0030\n",
            "Epoch 55/200\n",
            "11/11 [==============================] - 0s 5ms/step - loss: 0.0011 - val_loss: 0.0030\n",
            "Epoch 56/200\n",
            "11/11 [==============================] - 0s 5ms/step - loss: 0.0011 - val_loss: 0.0029\n",
            "Epoch 57/200\n",
            "11/11 [==============================] - 0s 5ms/step - loss: 0.0011 - val_loss: 0.0029\n",
            "Epoch 58/200\n",
            "11/11 [==============================] - 0s 5ms/step - loss: 0.0011 - val_loss: 0.0027\n",
            "Epoch 59/200\n",
            "11/11 [==============================] - 0s 5ms/step - loss: 0.0010 - val_loss: 0.0027\n",
            "Epoch 60/200\n",
            "11/11 [==============================] - 0s 7ms/step - loss: 0.0010 - val_loss: 0.0025\n",
            "Epoch 61/200\n",
            "11/11 [==============================] - 0s 7ms/step - loss: 0.0010 - val_loss: 0.0024\n",
            "Epoch 62/200\n",
            "11/11 [==============================] - 0s 5ms/step - loss: 0.0010 - val_loss: 0.0026\n",
            "Epoch 63/200\n",
            "11/11 [==============================] - 0s 5ms/step - loss: 0.0010 - val_loss: 0.0024\n",
            "Epoch 64/200\n",
            "11/11 [==============================] - 0s 5ms/step - loss: 0.0010 - val_loss: 0.0022\n",
            "Epoch 65/200\n",
            "11/11 [==============================] - 0s 5ms/step - loss: 9.2657e-04 - val_loss: 0.0025\n",
            "Epoch 66/200\n",
            "11/11 [==============================] - 0s 6ms/step - loss: 9.4229e-04 - val_loss: 0.0022\n",
            "Epoch 67/200\n",
            "11/11 [==============================] - 0s 5ms/step - loss: 9.2468e-04 - val_loss: 0.0022\n",
            "Epoch 68/200\n",
            "11/11 [==============================] - 0s 6ms/step - loss: 8.9522e-04 - val_loss: 0.0022\n",
            "Epoch 69/200\n",
            "11/11 [==============================] - 0s 6ms/step - loss: 8.7956e-04 - val_loss: 0.0022\n",
            "Epoch 70/200\n",
            "11/11 [==============================] - 0s 7ms/step - loss: 8.6836e-04 - val_loss: 0.0021\n",
            "Epoch 71/200\n",
            "11/11 [==============================] - 0s 5ms/step - loss: 8.6985e-04 - val_loss: 0.0021\n",
            "Epoch 72/200\n",
            "11/11 [==============================] - 0s 5ms/step - loss: 8.7020e-04 - val_loss: 0.0020\n",
            "Epoch 73/200\n",
            "11/11 [==============================] - 0s 5ms/step - loss: 8.3693e-04 - val_loss: 0.0020\n",
            "Epoch 74/200\n",
            "11/11 [==============================] - 0s 6ms/step - loss: 8.5775e-04 - val_loss: 0.0020\n",
            "Epoch 75/200\n",
            "11/11 [==============================] - 0s 5ms/step - loss: 8.3316e-04 - val_loss: 0.0020\n",
            "Epoch 76/200\n",
            "11/11 [==============================] - 0s 6ms/step - loss: 8.1523e-04 - val_loss: 0.0019\n",
            "Epoch 77/200\n",
            "11/11 [==============================] - 0s 7ms/step - loss: 8.0854e-04 - val_loss: 0.0019\n",
            "Epoch 78/200\n",
            "11/11 [==============================] - 0s 5ms/step - loss: 7.9985e-04 - val_loss: 0.0019\n",
            "Epoch 79/200\n",
            "11/11 [==============================] - 0s 5ms/step - loss: 7.7974e-04 - val_loss: 0.0019\n",
            "Epoch 80/200\n",
            "11/11 [==============================] - 0s 6ms/step - loss: 7.6608e-04 - val_loss: 0.0017\n",
            "Epoch 81/200\n",
            "11/11 [==============================] - 0s 7ms/step - loss: 7.5455e-04 - val_loss: 0.0017\n",
            "Epoch 82/200\n",
            "11/11 [==============================] - 0s 6ms/step - loss: 7.4916e-04 - val_loss: 0.0017\n",
            "Epoch 83/200\n",
            "11/11 [==============================] - 0s 6ms/step - loss: 7.3539e-04 - val_loss: 0.0019\n",
            "Epoch 84/200\n",
            "11/11 [==============================] - 0s 7ms/step - loss: 7.2506e-04 - val_loss: 0.0016\n",
            "Epoch 85/200\n",
            "11/11 [==============================] - 0s 5ms/step - loss: 7.3260e-04 - val_loss: 0.0019\n",
            "Epoch 86/200\n",
            "11/11 [==============================] - 0s 6ms/step - loss: 7.4479e-04 - val_loss: 0.0017\n",
            "Epoch 87/200\n",
            "11/11 [==============================] - 0s 5ms/step - loss: 7.4042e-04 - val_loss: 0.0017\n",
            "Epoch 88/200\n",
            "11/11 [==============================] - 0s 7ms/step - loss: 7.0156e-04 - val_loss: 0.0018\n",
            "Epoch 89/200\n",
            "11/11 [==============================] - 0s 5ms/step - loss: 7.2605e-04 - val_loss: 0.0016\n",
            "Epoch 90/200\n",
            "11/11 [==============================] - 0s 6ms/step - loss: 7.1094e-04 - val_loss: 0.0018\n",
            "Epoch 91/200\n",
            "11/11 [==============================] - 0s 5ms/step - loss: 7.3167e-04 - val_loss: 0.0016\n",
            "Epoch 92/200\n",
            "11/11 [==============================] - 0s 5ms/step - loss: 7.5887e-04 - val_loss: 0.0015\n",
            "Epoch 93/200\n",
            "11/11 [==============================] - 0s 5ms/step - loss: 7.6448e-04 - val_loss: 0.0020\n",
            "Epoch 94/200\n",
            "11/11 [==============================] - 0s 7ms/step - loss: 7.0933e-04 - val_loss: 0.0016\n",
            "Epoch 95/200\n",
            "11/11 [==============================] - 0s 6ms/step - loss: 7.0030e-04 - val_loss: 0.0018\n",
            "Epoch 96/200\n",
            "11/11 [==============================] - 0s 6ms/step - loss: 7.1677e-04 - val_loss: 0.0016\n",
            "Epoch 97/200\n",
            "11/11 [==============================] - 0s 6ms/step - loss: 6.6267e-04 - val_loss: 0.0015\n",
            "Epoch 98/200\n",
            "11/11 [==============================] - 0s 5ms/step - loss: 6.6897e-04 - val_loss: 0.0015\n",
            "Epoch 99/200\n",
            "11/11 [==============================] - 0s 6ms/step - loss: 6.7187e-04 - val_loss: 0.0015\n",
            "Epoch 100/200\n",
            "11/11 [==============================] - 0s 6ms/step - loss: 6.6699e-04 - val_loss: 0.0015\n",
            "Epoch 101/200\n",
            "11/11 [==============================] - 0s 7ms/step - loss: 7.0837e-04 - val_loss: 0.0015\n",
            "Epoch 102/200\n",
            "11/11 [==============================] - 0s 7ms/step - loss: 6.5404e-04 - val_loss: 0.0016\n",
            "Epoch 103/200\n",
            "11/11 [==============================] - 0s 5ms/step - loss: 6.5197e-04 - val_loss: 0.0015\n",
            "Epoch 104/200\n",
            "11/11 [==============================] - 0s 6ms/step - loss: 6.4606e-04 - val_loss: 0.0015\n",
            "Epoch 105/200\n",
            "11/11 [==============================] - 0s 6ms/step - loss: 6.7989e-04 - val_loss: 0.0017\n",
            "Epoch 106/200\n",
            "11/11 [==============================] - 0s 7ms/step - loss: 6.6192e-04 - val_loss: 0.0014\n",
            "Epoch 107/200\n",
            "11/11 [==============================] - 0s 5ms/step - loss: 6.9446e-04 - val_loss: 0.0022\n",
            "Epoch 108/200\n",
            "11/11 [==============================] - 0s 6ms/step - loss: 6.9070e-04 - val_loss: 0.0015\n",
            "Epoch 109/200\n",
            "11/11 [==============================] - 0s 6ms/step - loss: 7.0866e-04 - val_loss: 0.0019\n",
            "Epoch 110/200\n",
            "11/11 [==============================] - 0s 6ms/step - loss: 6.6913e-04 - val_loss: 0.0015\n",
            "Epoch 111/200\n",
            "11/11 [==============================] - 0s 5ms/step - loss: 6.5004e-04 - val_loss: 0.0017\n",
            "Epoch 112/200\n",
            " 1/11 [=>............................] - ETA: 0s - loss: 6.0727e-04Restoring model weights from the end of the best epoch: 92.\n",
            "11/11 [==============================] - 0s 7ms/step - loss: 6.4829e-04 - val_loss: 0.0015\n",
            "Epoch 112: early stopping\n"
          ]
        }
      ]
    },
    {
      "cell_type": "code",
      "source": [
        "fig=plt.figure()\n",
        "plt.plot(history.history['loss'])\n",
        "plt.plot(history.history['val_loss'])\n",
        "plt.title('model train vs validation loss')\n",
        "plt.ylabel('loss')\n",
        "plt.xlabel('epoch')\n",
        "plt.legend(['train', 'validation'], loc='upper right')\n",
        "fig.savefig('Data\\Val_Loss_Graph.png', bbox_inches='tight')\n",
        "plt.show()"
      ],
      "metadata": {
        "colab": {
          "base_uri": "https://localhost:8080/",
          "height": 295
        },
        "id": "kyEEMe561c8W",
        "outputId": "3eaacf2d-fa70-4d05-98e6-9beb1e40f37b"
      },
      "execution_count": null,
      "outputs": [
        {
          "output_type": "display_data",
          "data": {
            "text/plain": [
              "<Figure size 432x288 with 1 Axes>"
            ],
            "image/png": "[encoded data removed]"
          },
          "metadata": {
            "needs_background": "light"
          }
        }
      ]
    },
    {
      "cell_type": "code",
      "source": [
        "# make predictions\n",
        "trainPredict = model.predict(trainX)\n",
        "testPredict = model.predict(testX)"
      ],
      "metadata": {
        "id": "q_je7HHZy6bi"
      },
      "execution_count": null,
      "outputs": []
    },
    {
      "cell_type": "code",
      "source": [
        "#for forecasting\n",
        "forecast_size=18\n",
        "step_count=look_back\n",
        "X_input = numpy.asarray(dataset[len(dataset)-step_count:len(dataset),:]).astype('float32')\n",
        "T_input=list(X_input)\n",
        "features_count=1\n",
        "Output=[]\n",
        "i=0\n",
        "while(i<forecast_size):\n",
        "    \n",
        "    if(len(T_input)>step_count):\n",
        "        X_input=numpy.asarray(T_input[1:]).astype('float32')\n",
        "        print(\"{} month input {}\".format(i,X_input))\n",
        "        X_input = X_input.reshape((1, features_count,step_count))\n",
        "        prediction_value = model.predict(X_input, verbose=0) #predict the value\n",
        "        prediction_value_2=prediction_value\n",
        "        prediction_value_2=scaler.inverse_transform(prediction_value_2)\n",
        "        print(\"{} month output {}\".format(i,prediction_value))\n",
        "        T_input.append(prediction_value[0][0])#store predicted output to work as input for next iteration\n",
        "        T_input=T_input[1:] #remove the first value as we inserted new value\n",
        "        Output.append(prediction_value_2[0][0])#store all the predicted value\n",
        "        i=i+1\n",
        "        print(prediction_value[0][0])\n",
        "    else:\n",
        "        X_input = X_input.reshape((1,features_count,step_count))\n",
        "        prediction_value = model.predict(X_input, verbose=0)\n",
        "        prediction_value_2=prediction_value\n",
        "        prediction_value_2=scaler.inverse_transform(prediction_value_2)\n",
        "        print(prediction_value[0])\n",
        "        T_input.append(prediction_value[0][0])\n",
        "        Output.append(prediction_value_2[0][0])\n",
        "        i=i+1\n",
        "        print(prediction_value[0][0])\n",
        "\n",
        "\n",
        "print(Output)\n",
        "Previous_data_length=len(dataset)\n",
        "new_data=numpy.arange(Previous_data_length,Previous_data_length + forecast_size)\n"
      ],
      "metadata": {
        "id": "QDO4hTUOFzp1",
        "colab": {
          "base_uri": "https://localhost:8080/"
        },
        "outputId": "2f66fee1-0e25-4b07-cdba-8d45accf3624"
      },
      "execution_count": null,
      "outputs": [
        {
          "output_type": "stream",
          "name": "stdout",
          "text": [
            "[0.9561035]\n",
            "0.9561035\n",
            "1 month input [0.8727333  0.7668194  0.58094996 0.43266702 0.53451973 0.61336386\n",
            " 0.60606974 0.5617287  0.7404092  0.87665516 1.         0.9561035 ]\n",
            "1 month output [[0.9313306]]\n",
            "0.9313306\n",
            "2 month input [0.7668194  0.58094996 0.43266702 0.53451973 0.61336386 0.60606974\n",
            " 0.5617287  0.7404092  0.87665516 1.         0.9561035  0.9313306 ]\n",
            "2 month output [[0.8190513]]\n",
            "0.8190513\n",
            "3 month input [0.58094996 0.43266702 0.53451973 0.61336386 0.60606974 0.5617287\n",
            " 0.7404092  0.87665516 1.         0.9561035  0.9313306  0.8190513 ]\n",
            "3 month output [[0.6385274]]\n",
            "0.6385274\n",
            "4 month input [0.43266702 0.53451973 0.61336386 0.60606974 0.5617287  0.7404092\n",
            " 0.87665516 1.         0.9561035  0.9313306  0.8190513  0.6385274 ]\n",
            "4 month output [[0.5318638]]\n",
            "0.5318638\n",
            "5 month input [0.53451973 0.61336386 0.60606974 0.5617287  0.7404092  0.87665516\n",
            " 1.         0.9561035  0.9313306  0.8190513  0.6385274  0.5318638 ]\n"
          ]
        },
        {
          "output_type": "stream",
          "name": "stderr",
          "text": [
            "/usr/local/lib/python3.7/dist-packages/ipykernel_launcher.py:12: VisibleDeprecationWarning: Creating an ndarray from ragged nested sequences (which is a list-or-tuple of lists-or-tuples-or ndarrays with different lengths or shapes) is deprecated. If you meant to do this, you must specify 'dtype=object' when creating the ndarray.\n",
            "  if sys.path[0] == '':\n",
            "/usr/local/lib/python3.7/dist-packages/ipykernel_launcher.py:12: VisibleDeprecationWarning: Creating an ndarray from ragged nested sequences (which is a list-or-tuple of lists-or-tuples-or ndarrays with different lengths or shapes) is deprecated. If you meant to do this, you must specify 'dtype=object' when creating the ndarray.\n",
            "  if sys.path[0] == '':\n",
            "/usr/local/lib/python3.7/dist-packages/ipykernel_launcher.py:12: VisibleDeprecationWarning: Creating an ndarray from ragged nested sequences (which is a list-or-tuple of lists-or-tuples-or ndarrays with different lengths or shapes) is deprecated. If you meant to do this, you must specify 'dtype=object' when creating the ndarray.\n",
            "  if sys.path[0] == '':\n",
            "/usr/local/lib/python3.7/dist-packages/ipykernel_launcher.py:12: VisibleDeprecationWarning: Creating an ndarray from ragged nested sequences (which is a list-or-tuple of lists-or-tuples-or ndarrays with different lengths or shapes) is deprecated. If you meant to do this, you must specify 'dtype=object' when creating the ndarray.\n",
            "  if sys.path[0] == '':\n",
            "/usr/local/lib/python3.7/dist-packages/ipykernel_launcher.py:12: VisibleDeprecationWarning: Creating an ndarray from ragged nested sequences (which is a list-or-tuple of lists-or-tuples-or ndarrays with different lengths or shapes) is deprecated. If you meant to do this, you must specify 'dtype=object' when creating the ndarray.\n",
            "  if sys.path[0] == '':\n"
          ]
        },
        {
          "output_type": "stream",
          "name": "stdout",
          "text": [
            "5 month output [[0.58339405]]\n",
            "0.58339405\n",
            "6 month input [0.61336386 0.60606974 0.5617287  0.7404092  0.87665516 1.\n",
            " 0.9561035  0.9313306  0.8190513  0.6385274  0.5318638  0.58339405]\n",
            "6 month output [[0.6356942]]\n",
            "0.6356942\n",
            "7 month input [0.60606974 0.5617287  0.7404092  0.87665516 1.         0.9561035\n",
            " 0.9313306  0.8190513  0.6385274  0.5318638  0.58339405 0.6356942 ]\n",
            "7 month output [[0.632486]]\n",
            "0.632486\n",
            "8 month input [0.5617287  0.7404092  0.87665516 1.         0.9561035  0.9313306\n",
            " 0.8190513  0.6385274  0.5318638  0.58339405 0.6356942  0.632486  ]\n",
            "8 month output [[0.62678736]]\n",
            "0.62678736\n",
            "9 month input [0.7404092  0.87665516 1.         0.9561035  0.9313306  0.8190513\n",
            " 0.6385274  0.5318638  0.58339405 0.6356942  0.632486   0.62678736]\n",
            "9 month output [[0.7774045]]\n",
            "0.7774045\n",
            "10 month input [0.87665516 1.         0.9561035  0.9313306  0.8190513  0.6385274\n",
            " 0.5318638  0.58339405 0.6356942  0.632486   0.62678736 0.7774045 ]\n"
          ]
        },
        {
          "output_type": "stream",
          "name": "stderr",
          "text": [
            "/usr/local/lib/python3.7/dist-packages/ipykernel_launcher.py:12: VisibleDeprecationWarning: Creating an ndarray from ragged nested sequences (which is a list-or-tuple of lists-or-tuples-or ndarrays with different lengths or shapes) is deprecated. If you meant to do this, you must specify 'dtype=object' when creating the ndarray.\n",
            "  if sys.path[0] == '':\n",
            "/usr/local/lib/python3.7/dist-packages/ipykernel_launcher.py:12: VisibleDeprecationWarning: Creating an ndarray from ragged nested sequences (which is a list-or-tuple of lists-or-tuples-or ndarrays with different lengths or shapes) is deprecated. If you meant to do this, you must specify 'dtype=object' when creating the ndarray.\n",
            "  if sys.path[0] == '':\n",
            "/usr/local/lib/python3.7/dist-packages/ipykernel_launcher.py:12: VisibleDeprecationWarning: Creating an ndarray from ragged nested sequences (which is a list-or-tuple of lists-or-tuples-or ndarrays with different lengths or shapes) is deprecated. If you meant to do this, you must specify 'dtype=object' when creating the ndarray.\n",
            "  if sys.path[0] == '':\n",
            "/usr/local/lib/python3.7/dist-packages/ipykernel_launcher.py:12: VisibleDeprecationWarning: Creating an ndarray from ragged nested sequences (which is a list-or-tuple of lists-or-tuples-or ndarrays with different lengths or shapes) is deprecated. If you meant to do this, you must specify 'dtype=object' when creating the ndarray.\n",
            "  if sys.path[0] == '':\n",
            "/usr/local/lib/python3.7/dist-packages/ipykernel_launcher.py:12: VisibleDeprecationWarning: Creating an ndarray from ragged nested sequences (which is a list-or-tuple of lists-or-tuples-or ndarrays with different lengths or shapes) is deprecated. If you meant to do this, you must specify 'dtype=object' when creating the ndarray.\n",
            "  if sys.path[0] == '':\n"
          ]
        },
        {
          "output_type": "stream",
          "name": "stdout",
          "text": [
            "10 month output [[0.93114084]]\n",
            "0.93114084\n",
            "11 month input [1.         0.9561035  0.9313306  0.8190513  0.6385274  0.5318638\n",
            " 0.58339405 0.6356942  0.632486   0.62678736 0.7774045  0.93114084]\n",
            "11 month output [[1.0281307]]\n",
            "1.0281307\n",
            "12 month input [0.9561035  0.9313306  0.8190513  0.6385274  0.5318638  0.58339405\n",
            " 0.6356942  0.632486   0.62678736 0.7774045  0.93114084 1.0281307 ]\n",
            "12 month output [[1.0177854]]\n",
            "1.0177854\n",
            "13 month input [0.9313306  0.8190513  0.6385274  0.5318638  0.58339405 0.6356942\n",
            " 0.632486   0.62678736 0.7774045  0.93114084 1.0281307  1.0177854 ]\n",
            "13 month output [[0.9816355]]\n",
            "0.9816355\n",
            "14 month input [0.8190513  0.6385274  0.5318638  0.58339405 0.6356942  0.632486\n",
            " 0.62678736 0.7774045  0.93114084 1.0281307  1.0177854  0.9816355 ]\n",
            "14 month output [[0.8631462]]\n",
            "0.8631462\n",
            "15 month input [0.6385274  0.5318638  0.58339405 0.6356942  0.632486   0.62678736\n",
            " 0.7774045  0.93114084 1.0281307  1.0177854  0.9816355  0.8631462 ]\n"
          ]
        },
        {
          "output_type": "stream",
          "name": "stderr",
          "text": [
            "/usr/local/lib/python3.7/dist-packages/ipykernel_launcher.py:12: VisibleDeprecationWarning: Creating an ndarray from ragged nested sequences (which is a list-or-tuple of lists-or-tuples-or ndarrays with different lengths or shapes) is deprecated. If you meant to do this, you must specify 'dtype=object' when creating the ndarray.\n",
            "  if sys.path[0] == '':\n"
          ]
        },
        {
          "output_type": "stream",
          "name": "stdout",
          "text": [
            "15 month output [[0.6985299]]\n",
            "0.6985299\n",
            "16 month input [0.5318638  0.58339405 0.6356942  0.632486   0.62678736 0.7774045\n",
            " 0.93114084 1.0281307  1.0177854  0.9816355  0.8631462  0.6985299 ]\n",
            "16 month output [[0.6082142]]\n",
            "0.6082142\n",
            "17 month input [0.58339405 0.6356942  0.632486   0.62678736 0.7774045  0.93114084\n",
            " 1.0281307  1.0177854  0.9816355  0.8631462  0.6985299  0.6082142 ]\n",
            "17 month output [[0.6329013]]\n",
            "0.6329013\n",
            "[1178081.0, 1151223.1, 1029493.94, 833776.4, 718135.56, 774002.8, 830704.75, 827226.5, 821048.25, 984341.94, 1151017.4, 1256170.2, 1244954.4, 1205761.9, 1077300.0, 898828.94, 800911.94, 827676.8]\n"
          ]
        }
      ]
    },
    {
      "cell_type": "code",
      "source": [
        "# invert predictions\n",
        "trainPredict = scaler.inverse_transform(trainPredict)\n",
        "trainY = scaler.inverse_transform([trainY])\n",
        "testPredict = scaler.inverse_transform(testPredict)\n",
        "testY = scaler.inverse_transform([testY])"
      ],
      "metadata": {
        "id": "6Ltr0QJJy-DK"
      },
      "execution_count": null,
      "outputs": []
    },
    {
      "cell_type": "code",
      "source": [
        "def calculate_smape(actual, predicted) -> float:\n",
        "  \n",
        "    # Convert actual and predicted to numpy\n",
        "    # array data type if not already\n",
        "    if not all([isinstance(actual, numpy.ndarray), \n",
        "                isinstance(predicted, numpy.ndarray)]):\n",
        "        actual, predicted = numpy.array(actual),\n",
        "        numpy.array(predicted)\n",
        "  \n",
        "    return round(\n",
        "        numpy.mean(\n",
        "            numpy.abs(predicted - actual) / \n",
        "            ((numpy.abs(predicted) + numpy.abs(actual))/2)\n",
        "        )*100, 2\n",
        "    )\n",
        "  \n",
        "  # to calculate mape\n",
        "def MAPE(Y_actual,Y_Predicted):\n",
        "    mape = numpy.mean(numpy.abs((Y_actual - Y_Predicted)/Y_actual))*100\n",
        "    return mape\n",
        " "
      ],
      "metadata": {
        "id": "2RA7ljm0zLXA"
      },
      "execution_count": null,
      "outputs": []
    },
    {
      "cell_type": "code",
      "source": [
        "# calculate-store-print the benchmarks\n",
        "Benchmarks=[]\n",
        "train_RMSE =[ \"Train :\",math.sqrt(mean_squared_error(trainY[0], trainPredict[:,0])),\"RMSE\"]\n",
        "Benchmarks.append(train_RMSE)\n",
        "test_RMSE =[ \"Test :\",math.sqrt(mean_squared_error(testY[0], testPredict[:,0])),\"RMSE\"]\n",
        "Benchmarks.append(test_RMSE)\n",
        "train_MAPE=[ \"Train :\",MAPE(trainY[0],trainPredict[:,0]),\"MAPE\"]\n",
        "Benchmarks.append(train_MAPE)\n",
        "test_MAPE=[ \"Test :\",MAPE(testY[0],testPredict[:,0]),\"MAPE\"]\n",
        "Benchmarks.append(test_MAPE)\n",
        "train_SMAPE=[ \"Train :\",calculate_smape(trainY[0],trainPredict[:,0]),\"SMAPE\"]\n",
        "Benchmarks.append(train_SMAPE)\n",
        "test_SMAPE=[ \"Test :\",calculate_smape(testY[0],testPredict[:,0]),\"SMAPE\"]\n",
        "Benchmarks.append(test_SMAPE)\n",
        "train_MAE=[ \"Train :\",mean_absolute_error(trainY[0],trainPredict[:,0]),\"MAE\"]\n",
        "Benchmarks.append(train_MAE)\n",
        "test_MAE=[ \"Test :\",mean_absolute_error(testY[0],testPredict[:,0]),\"MAE\"]\n",
        "Benchmarks.append(test_MAE)\n",
        "\n",
        "numpy.savetxt(\"Data\\Benchmarks.csv\", Benchmarks, delimiter=\", \", header=\"Train/Test Benchmarks, Value , Type\", fmt='% s')\n",
        "Benchmarks_dataframe = read_csv(\"Data\\Benchmarks.csv\")\n",
        "print(Benchmarks_dataframe)"
      ],
      "metadata": {
        "colab": {
          "base_uri": "https://localhost:8080/"
        },
        "id": "zkzJSlP1zAJb",
        "outputId": "44718a6c-ec2b-434b-d0c9-1c55e703850e"
      },
      "execution_count": null,
      "outputs": [
        {
          "output_type": "stream",
          "name": "stdout",
          "text": [
            "  # Train/Test Benchmarks        Value     Type\n",
            "0                 Train :  28776.195755    RMSE\n",
            "1                  Test :  42123.311372    RMSE\n",
            "2                 Train :      5.366308    MAPE\n",
            "3                  Test :      4.186228    MAPE\n",
            "4                 Train :      5.240000   SMAPE\n",
            "5                  Test :      4.180000   SMAPE\n",
            "6                 Train :  22279.802318     MAE\n",
            "7                  Test :  33303.471088     MAE\n"
          ]
        }
      ]
    },
    {
      "cell_type": "code",
      "source": [
        "# shift train predictions for plotting\n",
        "trainPredictPlot = numpy.empty_like(dataset)\n",
        "trainPredictPlot[:, :] = numpy.nan\n",
        "trainPredictPlot[look_back:len(trainPredict)+look_back, :] = trainPredict"
      ],
      "metadata": {
        "id": "fH1nkHkDzCPK"
      },
      "execution_count": null,
      "outputs": []
    },
    {
      "cell_type": "code",
      "source": [
        "# shift test predictions for plotting\n",
        "testPredictPlot = numpy.empty_like(dataset)\n",
        "testPredictPlot[:, :] = numpy.nan\n",
        "testPredictPlot[len(trainPredict)+(look_back*2)+1:len(dataset)-1, :] = testPredict"
      ],
      "metadata": {
        "id": "sUpYtE0VzFkb"
      },
      "execution_count": null,
      "outputs": []
    },
    {
      "cell_type": "code",
      "source": [
        "# plot baseline and predictions\n",
        "fig2=figure(figsize=(8, 6), dpi=100)\n",
        "plt.plot(scaler.inverse_transform(dataset))\n",
        "#plt.plot(trainPredictPlot)\n",
        "plt.plot(testPredictPlot)\n",
        "plt.plot(new_data,Output)\n",
        "fig2.savefig('Data\\FInal_Output.png', bbox_inches='tight')\n",
        "plt.show()"
      ],
      "metadata": {
        "colab": {
          "base_uri": "https://localhost:8080/",
          "height": 528
        },
        "id": "DRmGhjeqzG87",
        "outputId": "42d63bba-3c26-4dca-d01a-7eb498b23ce7"
      },
      "execution_count": null,
      "outputs": [
        {
          "output_type": "display_data",
          "data": {
            "text/plain": [
              "<Figure size 800x600 with 1 Axes>"
            ],
            "image/png": "[encoded data removed]"
          },
          "metadata": {
            "needs_background": "light"
          }
        }
      ]
    },
    {
      "cell_type": "code",
      "source": [
        ""
      ],
      "metadata": {
        "id": "pozrCaiPIDjK"
      },
      "execution_count": null,
      "outputs": []
    }
  ]
}